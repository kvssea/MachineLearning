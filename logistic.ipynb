{
 "metadata": {
  "language_info": {
   "codemirror_mode": {
    "name": "ipython",
    "version": 3
   },
   "file_extension": ".py",
   "mimetype": "text/x-python",
   "name": "python",
   "nbconvert_exporter": "python",
   "pygments_lexer": "ipython3",
   "version": "3.8.3-final"
  },
  "orig_nbformat": 2,
  "kernelspec": {
   "name": "python3",
   "display_name": "Python 3",
   "language": "python"
  }
 },
 "nbformat": 4,
 "nbformat_minor": 2,
 "cells": [
  {
   "cell_type": "code",
   "execution_count": 1,
   "metadata": {},
   "outputs": [],
   "source": [
    "import numpy as np\n",
    "from sklearn.preprocessing import MinMaxScaler\n",
    "from sklearn.preprocessing import scale"
   ]
  },
  {
   "cell_type": "code",
   "execution_count": 2,
   "metadata": {},
   "outputs": [
    {
     "output_type": "execute_result",
     "data": {
      "text/plain": [
       "(5, 23)"
      ]
     },
     "metadata": {},
     "execution_count": 2
    }
   ],
   "source": [
    "X = np.random.rand(23, 5)\n",
    "XT =  X.T\n",
    "\n",
    "xtx =np.dot(XT,X)\n",
    "xtxi=np.linalg.inv(xtx)\n",
    "\n",
    "np.dot(xtxi, XT).shape"
   ]
  },
  {
   "cell_type": "code",
   "execution_count": 22,
   "metadata": {},
   "outputs": [
    {
     "output_type": "execute_result",
     "data": {
      "text/plain": [
       "array([ 0.32, -0.36,  0.52, -0.48])"
      ]
     },
     "metadata": {},
     "execution_count": 22
    }
   ],
   "source": [
    "X = np.array([[89,7921,96],[72,5184,74],[94,8836,87], [69,4761,78]])\n",
    "X1 = X[:,0]\n",
    "(X1 - 81) / (max(X[:,0] - min(X[:,0])))\n",
    "#np.average(X[:,0])"
   ]
  },
  {
   "cell_type": "code",
   "execution_count": 23,
   "metadata": {},
   "outputs": [
    {
     "output_type": "stream",
     "name": "stdout",
     "text": [
      "y shape:  (14,)\ntheta shape:  (2,)\nX shape:  (14, 2)\n"
     ]
    }
   ],
   "source": [
    "X = np.random.rand(14,4)\n",
    "ones = np.ones((14,1), dtype = int)\n",
    "X = np.column_stack((ones, X))\n",
    "y = X[:,2]\n",
    "X = X[:,0:2]\n",
    "\n",
    "XT = np.transpose(X)\n",
    "XTX = np.dot(XT, X)\n",
    "XTXinv = np.linalg.inv(XTX)\n",
    "xtxinvxt = np.dot(XTXinv, XT)\n",
    "theta = np.dot(xtxinvxt, y)\n",
    "\n",
    "print('y shape: ', y.shape)\n",
    "print('theta shape: ', theta.shape)\n",
    "print('X shape: ', X.shape)\n",
    "\n"
   ]
  },
  {
   "cell_type": "code",
   "execution_count": 7,
   "metadata": {},
   "outputs": [
    {
     "output_type": "execute_result",
     "data": {
      "text/plain": [
       "array([[1.        , 0.51347079],\n",
       "       [1.        , 0.25487283],\n",
       "       [1.        , 0.1324879 ],\n",
       "       [1.        , 0.4073425 ],\n",
       "       [1.        , 0.1087095 ],\n",
       "       [1.        , 0.44341433],\n",
       "       [1.        , 0.9877906 ],\n",
       "       [1.        , 0.17204113],\n",
       "       [1.        , 0.43159513],\n",
       "       [1.        , 0.30018803],\n",
       "       [1.        , 0.40499337],\n",
       "       [1.        , 0.03530151],\n",
       "       [1.        , 0.62523724],\n",
       "       [1.        , 0.99535981]])"
      ]
     },
     "metadata": {},
     "execution_count": 7
    }
   ],
   "source": [
    "X"
   ]
  },
  {
   "source": [
    "Hypothesis function for logistic regression:\n",
    "$$\\huge h_{\\theta}(x) = g(\\theta^{T}x)$$"
   ],
   "cell_type": "markdown",
   "metadata": {}
  },
  {
   "source": [
    "The function for logistic regression is as follows:\n",
    "\n",
    "$$ \\huge g(z) = \\frac{1}{1 + e^{-z}} $$"
   ],
   "cell_type": "markdown",
   "metadata": {}
  },
  {
   "source": [
    "To make the logistic regression a function of (theta' * X):\n",
    "$$ \\huge g(\\theta^{T}x)  = \\frac{1}{1+e^{-\\theta^{T}x}}$$"
   ],
   "cell_type": "markdown",
   "metadata": {}
  },
  {
   "source": [
    "The combination of functions now defines the hypothesis function for logistic regression below:\n",
    "$$ \\huge h_{\\theta}(x)  = \\frac{1}{1+e^{-\\theta^{T}x}}$$"
   ],
   "cell_type": "markdown",
   "metadata": {}
  },
  {
   "cell_type": "code",
   "execution_count": 40,
   "metadata": {},
   "outputs": [
    {
     "output_type": "execute_result",
     "data": {
      "text/plain": [
       "2.718281828459045"
      ]
     },
     "metadata": {},
     "execution_count": 40
    }
   ],
   "source": [
    "import matplotlib as mpl\n",
    "import matplotlib.pyplot as plt\n",
    "import math\n",
    "#create a logistic regression function in order to plot the behavior of logistic regression:\n",
    "\n",
    "def log_reg(X, theta):\n",
    "    X = np.array(X)\n",
    "    theta = np.array(theta)\n",
    "\n",
    "    y = 1 / (1 + np.exp(-theta.transpose() * X))\n",
    "    return(y)\n",
    "\n",
    "\n",
    "X = list(range(-1,1))\n",
    "theta = list(range(-1,1))\n",
    "\n",
    "y = log_reg(X, theta)\n",
    "\n",
    "math.e"
   ]
  }
 ]
}